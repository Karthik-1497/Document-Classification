{
 "cells": [
  {
   "cell_type": "markdown",
   "id": "78bc51d9",
   "metadata": {},
   "source": [
    "# Document Classification And Organizing System"
   ]
  },
  {
   "cell_type": "markdown",
   "id": "16133ae2",
   "metadata": {},
   "source": [
    "### Problem Statement\n",
    "#### The project aims to develop an automated system that can classify uploaded images of identity documents into one of four categories: Aadhar, PAN, Voter ID, or Driving License. When users submit images of their documents for verification, the system will analyze and categorize them correctly, storing each document type in its respective folder for further processing."
   ]
  },
  {
   "cell_type": "code",
   "execution_count": 1,
   "id": "22cc40f1",
   "metadata": {},
   "outputs": [],
   "source": [
    "import os\n",
    "import numpy as np\n",
    "import tensorflow as tf\n",
    "from tensorflow.keras.preprocessing.image import ImageDataGenerator"
   ]
  },
  {
   "cell_type": "markdown",
   "id": "0953a68d",
   "metadata": {},
   "source": [
    "#### Loading Dataset"
   ]
  },
  {
   "cell_type": "code",
   "execution_count": 2,
   "id": "cd3757f0",
   "metadata": {},
   "outputs": [],
   "source": [
    "# Define the base directory where your dataset folders are located\n",
    "base_dir = 'root_dataset_folder/'"
   ]
  },
  {
   "cell_type": "markdown",
   "id": "c02ad963",
   "metadata": {},
   "source": [
    "#### Preprocessing and Data Augmentation"
   ]
  },
  {
   "cell_type": "code",
   "execution_count": 3,
   "id": "8789cd9c",
   "metadata": {},
   "outputs": [],
   "source": [
    "# Define image dimensions and batch size\n",
    "img_height, img_width = 224, 224\n",
    "batch_size = 10"
   ]
  },
  {
   "cell_type": "code",
   "execution_count": 4,
   "id": "725ef11d",
   "metadata": {},
   "outputs": [
    {
     "name": "stdout",
     "output_type": "stream",
     "text": [
      "Found 73 images belonging to 8 classes.\n"
     ]
    }
   ],
   "source": [
    "# Use data augmentation to increase dataset size\n",
    "datagen = ImageDataGenerator(\n",
    "    rescale=1./255,\n",
    "    rotation_range=20,\n",
    "    width_shift_range=0.2,\n",
    "    height_shift_range=0.2,\n",
    "    shear_range=0.2,\n",
    "    zoom_range=0.2,\n",
    "    horizontal_flip=True,\n",
    "    fill_mode='nearest'\n",
    ")\n",
    "\n",
    "# Create image generators for each dataset folder\n",
    "train_data = datagen.flow_from_directory(\n",
    "    base_dir,\n",
    "    target_size=(img_height, img_width),\n",
    "    batch_size=batch_size,\n",
    "    class_mode='categorical'\n",
    ")"
   ]
  },
  {
   "cell_type": "markdown",
   "id": "c5a31ce7",
   "metadata": {},
   "source": [
    "### Model Building"
   ]
  },
  {
   "cell_type": "code",
   "execution_count": 5,
   "id": "ecb83a0c",
   "metadata": {},
   "outputs": [],
   "source": [
    "# Define the number of classes (4 classes: Aadhar, PAN, Voter, Driving)\n",
    "num_classes = len(train_data.class_indices)\n",
    "\n",
    "# Creating a CNN model\n",
    "model = tf.keras.Sequential([\n",
    "    tf.keras.layers.Conv2D(32, (3, 3), activation='relu', input_shape=(img_height, img_width, 3)),\n",
    "    tf.keras.layers.MaxPooling2D(2, 2),\n",
    "    tf.keras.layers.Conv2D(64, (3, 3), activation='relu'),\n",
    "    tf.keras.layers.MaxPooling2D(2, 2),\n",
    "    tf.keras.layers.Conv2D(128, (3, 3), activation='relu'),\n",
    "    tf.keras.layers.MaxPooling2D(2, 2),\n",
    "    tf.keras.layers.Flatten(),\n",
    "    tf.keras.layers.Dense(256, activation='relu'),\n",
    "    tf.keras.layers.Dropout(0.5),\n",
    "    tf.keras.layers.Dense(num_classes, activation='softmax')\n",
    "])\n",
    "\n"
   ]
  },
  {
   "cell_type": "code",
   "execution_count": 6,
   "id": "70526347",
   "metadata": {
    "scrolled": true
   },
   "outputs": [
    {
     "name": "stdout",
     "output_type": "stream",
     "text": [
      "Epoch 1/75\n",
      "8/8 [==============================] - 17s 1s/step - loss: 2.3927 - accuracy: 0.2329\n",
      "Epoch 2/75\n",
      "8/8 [==============================] - 9s 1s/step - loss: 1.6290 - accuracy: 0.2877\n",
      "Epoch 3/75\n",
      "8/8 [==============================] - 10s 1s/step - loss: 1.5567 - accuracy: 0.2466\n",
      "Epoch 4/75\n",
      "8/8 [==============================] - 10s 1s/step - loss: 1.5484 - accuracy: 0.2740\n",
      "Epoch 5/75\n",
      "8/8 [==============================] - 10s 1s/step - loss: 1.5866 - accuracy: 0.3288\n",
      "Epoch 6/75\n",
      "8/8 [==============================] - 9s 1s/step - loss: 1.4119 - accuracy: 0.3973\n",
      "Epoch 7/75\n",
      "8/8 [==============================] - 11s 1s/step - loss: 1.3453 - accuracy: 0.4384\n",
      "Epoch 8/75\n",
      "8/8 [==============================] - 9s 1s/step - loss: 1.3000 - accuracy: 0.4795\n",
      "Epoch 9/75\n",
      "8/8 [==============================] - 10s 1s/step - loss: 1.3761 - accuracy: 0.4247\n",
      "Epoch 10/75\n",
      "8/8 [==============================] - 10s 1s/step - loss: 1.3255 - accuracy: 0.4795\n",
      "Epoch 11/75\n",
      "8/8 [==============================] - 9s 983ms/step - loss: 1.3570 - accuracy: 0.4521\n",
      "Epoch 12/75\n",
      "8/8 [==============================] - 9s 1s/step - loss: 1.1778 - accuracy: 0.4658\n",
      "Epoch 13/75\n",
      "8/8 [==============================] - 8s 967ms/step - loss: 1.1563 - accuracy: 0.5068\n",
      "Epoch 14/75\n",
      "8/8 [==============================] - 10s 1s/step - loss: 1.1630 - accuracy: 0.5205\n",
      "Epoch 15/75\n",
      "8/8 [==============================] - 9s 1s/step - loss: 0.9588 - accuracy: 0.6027\n",
      "Epoch 16/75\n",
      "8/8 [==============================] - 9s 979ms/step - loss: 1.0728 - accuracy: 0.6027\n",
      "Epoch 17/75\n",
      "8/8 [==============================] - 10s 1s/step - loss: 0.9992 - accuracy: 0.5616\n",
      "Epoch 18/75\n",
      "8/8 [==============================] - 8s 1s/step - loss: 0.8769 - accuracy: 0.6712\n",
      "Epoch 19/75\n",
      "8/8 [==============================] - 9s 1s/step - loss: 0.9479 - accuracy: 0.6164\n",
      "Epoch 20/75\n",
      "8/8 [==============================] - 8s 875ms/step - loss: 1.0165 - accuracy: 0.5205\n",
      "Epoch 21/75\n",
      "8/8 [==============================] - 10s 1s/step - loss: 0.9785 - accuracy: 0.6301\n",
      "Epoch 22/75\n",
      "8/8 [==============================] - 9s 1s/step - loss: 0.9013 - accuracy: 0.6301\n",
      "Epoch 23/75\n",
      "8/8 [==============================] - 9s 1s/step - loss: 0.8674 - accuracy: 0.6986\n",
      "Epoch 24/75\n",
      "8/8 [==============================] - 9s 1s/step - loss: 1.0063 - accuracy: 0.5479\n",
      "Epoch 25/75\n",
      "8/8 [==============================] - 8s 863ms/step - loss: 0.8413 - accuracy: 0.6164\n",
      "Epoch 26/75\n",
      "8/8 [==============================] - 4s 576ms/step - loss: 0.9406 - accuracy: 0.5342\n",
      "Epoch 27/75\n",
      "8/8 [==============================] - 4s 575ms/step - loss: 0.8305 - accuracy: 0.6986\n",
      "Epoch 28/75\n",
      "8/8 [==============================] - 4s 539ms/step - loss: 0.8869 - accuracy: 0.6027\n",
      "Epoch 29/75\n",
      "8/8 [==============================] - 5s 547ms/step - loss: 0.7879 - accuracy: 0.6849\n",
      "Epoch 30/75\n",
      "8/8 [==============================] - 4s 541ms/step - loss: 0.7879 - accuracy: 0.6986\n",
      "Epoch 31/75\n",
      "8/8 [==============================] - 4s 526ms/step - loss: 0.7943 - accuracy: 0.6438\n",
      "Epoch 32/75\n",
      "8/8 [==============================] - 4s 587ms/step - loss: 0.9040 - accuracy: 0.5753\n",
      "Epoch 33/75\n",
      "8/8 [==============================] - 5s 596ms/step - loss: 0.8693 - accuracy: 0.7260\n",
      "Epoch 34/75\n",
      "8/8 [==============================] - 4s 520ms/step - loss: 0.7283 - accuracy: 0.7534\n",
      "Epoch 35/75\n",
      "8/8 [==============================] - 4s 514ms/step - loss: 0.6612 - accuracy: 0.7260\n",
      "Epoch 36/75\n",
      "8/8 [==============================] - 5s 547ms/step - loss: 0.9145 - accuracy: 0.6164\n",
      "Epoch 37/75\n",
      "8/8 [==============================] - 5s 553ms/step - loss: 1.0258 - accuracy: 0.5479\n",
      "Epoch 38/75\n",
      "8/8 [==============================] - 4s 537ms/step - loss: 0.7525 - accuracy: 0.7397\n",
      "Epoch 39/75\n",
      "8/8 [==============================] - 5s 547ms/step - loss: 0.6982 - accuracy: 0.7534\n",
      "Epoch 40/75\n",
      "8/8 [==============================] - 4s 572ms/step - loss: 0.7475 - accuracy: 0.7671\n",
      "Epoch 41/75\n",
      "8/8 [==============================] - 5s 610ms/step - loss: 0.7420 - accuracy: 0.7397\n",
      "Epoch 42/75\n",
      "8/8 [==============================] - 4s 538ms/step - loss: 0.5723 - accuracy: 0.7671\n",
      "Epoch 43/75\n",
      "8/8 [==============================] - 4s 534ms/step - loss: 0.6299 - accuracy: 0.7945\n",
      "Epoch 44/75\n",
      "8/8 [==============================] - 4s 544ms/step - loss: 0.5955 - accuracy: 0.7260\n",
      "Epoch 45/75\n",
      "8/8 [==============================] - 4s 537ms/step - loss: 0.6375 - accuracy: 0.7808\n",
      "Epoch 46/75\n",
      "8/8 [==============================] - 4s 544ms/step - loss: 0.6148 - accuracy: 0.7945\n",
      "Epoch 47/75\n",
      "8/8 [==============================] - 4s 537ms/step - loss: 0.4976 - accuracy: 0.8493\n",
      "Epoch 48/75\n",
      "8/8 [==============================] - 4s 530ms/step - loss: 0.5200 - accuracy: 0.8082\n",
      "Epoch 49/75\n",
      "8/8 [==============================] - 4s 521ms/step - loss: 0.5134 - accuracy: 0.7945\n",
      "Epoch 50/75\n",
      "8/8 [==============================] - 4s 531ms/step - loss: 0.5861 - accuracy: 0.7945\n",
      "Epoch 51/75\n",
      "8/8 [==============================] - 4s 529ms/step - loss: 0.6854 - accuracy: 0.7808\n",
      "Epoch 52/75\n",
      "8/8 [==============================] - 5s 535ms/step - loss: 0.5234 - accuracy: 0.8356\n",
      "Epoch 53/75\n",
      "8/8 [==============================] - 4s 546ms/step - loss: 0.7301 - accuracy: 0.6712\n",
      "Epoch 54/75\n",
      "8/8 [==============================] - 5s 557ms/step - loss: 0.6448 - accuracy: 0.7671\n",
      "Epoch 55/75\n",
      "8/8 [==============================] - 4s 523ms/step - loss: 0.6024 - accuracy: 0.7671\n",
      "Epoch 56/75\n",
      "8/8 [==============================] - 4s 525ms/step - loss: 0.5799 - accuracy: 0.8082\n",
      "Epoch 57/75\n",
      "8/8 [==============================] - 4s 516ms/step - loss: 0.6138 - accuracy: 0.8219\n",
      "Epoch 58/75\n",
      "8/8 [==============================] - 4s 540ms/step - loss: 0.3987 - accuracy: 0.8630\n",
      "Epoch 59/75\n",
      "8/8 [==============================] - 5s 577ms/step - loss: 0.3153 - accuracy: 0.9041\n",
      "Epoch 60/75\n",
      "8/8 [==============================] - 4s 526ms/step - loss: 0.4932 - accuracy: 0.8219\n",
      "Epoch 61/75\n",
      "8/8 [==============================] - 4s 533ms/step - loss: 0.5129 - accuracy: 0.8219\n",
      "Epoch 62/75\n",
      "8/8 [==============================] - 4s 580ms/step - loss: 0.4594 - accuracy: 0.8356\n",
      "Epoch 63/75\n",
      "8/8 [==============================] - 4s 525ms/step - loss: 0.4771 - accuracy: 0.8082\n",
      "Epoch 64/75\n",
      "8/8 [==============================] - 4s 540ms/step - loss: 0.5620 - accuracy: 0.8082\n",
      "Epoch 65/75\n",
      "8/8 [==============================] - 4s 525ms/step - loss: 0.4999 - accuracy: 0.8082\n",
      "Epoch 66/75\n",
      "8/8 [==============================] - 4s 573ms/step - loss: 0.4632 - accuracy: 0.8630\n",
      "Epoch 67/75\n",
      "8/8 [==============================] - 4s 542ms/step - loss: 0.4981 - accuracy: 0.7945\n",
      "Epoch 68/75\n",
      "8/8 [==============================] - 4s 518ms/step - loss: 0.4670 - accuracy: 0.7945\n",
      "Epoch 69/75\n",
      "8/8 [==============================] - 4s 530ms/step - loss: 0.3895 - accuracy: 0.8082\n",
      "Epoch 70/75\n",
      "8/8 [==============================] - 4s 538ms/step - loss: 0.4231 - accuracy: 0.8356\n",
      "Epoch 71/75\n",
      "8/8 [==============================] - 4s 529ms/step - loss: 0.4771 - accuracy: 0.8082\n",
      "Epoch 72/75\n",
      "8/8 [==============================] - 4s 532ms/step - loss: 0.3805 - accuracy: 0.8630\n",
      "Epoch 73/75\n",
      "8/8 [==============================] - 4s 532ms/step - loss: 0.4992 - accuracy: 0.8082\n",
      "Epoch 74/75\n",
      "8/8 [==============================] - 4s 518ms/step - loss: 0.4204 - accuracy: 0.8356\n",
      "Epoch 75/75\n",
      "8/8 [==============================] - 4s 524ms/step - loss: 0.4283 - accuracy: 0.8493\n"
     ]
    },
    {
     "data": {
      "text/plain": [
       "<keras.src.callbacks.History at 0x24b33f5abb0>"
      ]
     },
     "execution_count": 6,
     "metadata": {},
     "output_type": "execute_result"
    }
   ],
   "source": [
    "# Compiling the model\n",
    "model.compile(\n",
    "    optimizer='adam',\n",
    "    loss='categorical_crossentropy',\n",
    "    metrics=['accuracy']\n",
    ")\n",
    "\n",
    "# Training the model\n",
    "model.fit(\n",
    "    train_data,\n",
    "    epochs=75,\n",
    "    verbose=1\n",
    ")\n"
   ]
  },
  {
   "cell_type": "code",
   "execution_count": 9,
   "id": "4118557f",
   "metadata": {},
   "outputs": [
    {
     "name": "stdout",
     "output_type": "stream",
     "text": [
      "Model: \"sequential\"\n",
      "_________________________________________________________________\n",
      " Layer (type)                Output Shape              Param #   \n",
      "=================================================================\n",
      " conv2d (Conv2D)             (None, 222, 222, 32)      896       \n",
      "                                                                 \n",
      " max_pooling2d (MaxPooling2  (None, 111, 111, 32)      0         \n",
      " D)                                                              \n",
      "                                                                 \n",
      " conv2d_1 (Conv2D)           (None, 109, 109, 64)      18496     \n",
      "                                                                 \n",
      " max_pooling2d_1 (MaxPoolin  (None, 54, 54, 64)        0         \n",
      " g2D)                                                            \n",
      "                                                                 \n",
      " conv2d_2 (Conv2D)           (None, 52, 52, 128)       73856     \n",
      "                                                                 \n",
      " max_pooling2d_2 (MaxPoolin  (None, 26, 26, 128)       0         \n",
      " g2D)                                                            \n",
      "                                                                 \n",
      " flatten (Flatten)           (None, 86528)             0         \n",
      "                                                                 \n",
      " dense (Dense)               (None, 256)               22151424  \n",
      "                                                                 \n",
      " dropout (Dropout)           (None, 256)               0         \n",
      "                                                                 \n",
      " dense_1 (Dense)             (None, 8)                 2056      \n",
      "                                                                 \n",
      "=================================================================\n",
      "Total params: 22246728 (84.86 MB)\n",
      "Trainable params: 22246728 (84.86 MB)\n",
      "Non-trainable params: 0 (0.00 Byte)\n",
      "_________________________________________________________________\n"
     ]
    }
   ],
   "source": [
    "model.summary()"
   ]
  },
  {
   "cell_type": "code",
   "execution_count": 8,
   "id": "c3e4e225",
   "metadata": {
    "scrolled": true
   },
   "outputs": [
    {
     "name": "stderr",
     "output_type": "stream",
     "text": [
      "C:\\Users\\karth\\anaconda3\\lib\\site-packages\\keras\\src\\engine\\training.py:3000: UserWarning: You are saving your model as an HDF5 file via `model.save()`. This file format is considered legacy. We recommend using instead the native Keras format, e.g. `model.save('my_model.keras')`.\n",
      "  saving_api.save_model(\n"
     ]
    }
   ],
   "source": [
    "model.save('document_classifier_model.h5')"
   ]
  },
  {
   "cell_type": "code",
   "execution_count": null,
   "id": "1074575c",
   "metadata": {},
   "outputs": [],
   "source": []
  }
 ],
 "metadata": {
  "kernelspec": {
   "display_name": "Python 3 (ipykernel)",
   "language": "python",
   "name": "python3"
  },
  "language_info": {
   "codemirror_mode": {
    "name": "ipython",
    "version": 3
   },
   "file_extension": ".py",
   "mimetype": "text/x-python",
   "name": "python",
   "nbconvert_exporter": "python",
   "pygments_lexer": "ipython3",
   "version": "3.9.13"
  }
 },
 "nbformat": 4,
 "nbformat_minor": 5
}
